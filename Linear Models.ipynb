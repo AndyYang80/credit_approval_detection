{
 "cells": [
  {
   "cell_type": "code",
   "execution_count": 5,
   "id": "7a5262b0-9118-41df-a6c6-a4fa003f59ad",
   "metadata": {
    "tags": []
   },
   "outputs": [],
   "source": [
    "import pandas as pd\n",
    "import numpy as np\n",
    "import matplotlib.pyplot as plt\n",
    "from matplotlib import colors\n",
    "import altair as alt\n",
    "alt.data_transformers.enable('data_server')\n",
    "from sklearn.preprocessing import MinMaxScaler, StandardScaler, OrdinalEncoder, OneHotEncoder\n",
    "from sklearn.pipeline import Pipeline, make_pipeline\n",
    "from sklearn.model_selection import train_test_split, cross_val_score, cross_validate\n",
    "from sklearn.compose import ColumnTransformer\n",
    "from sklearn.linear_model import LogisticRegression\n",
    "from sklearn.dummy import DummyClassifier\n",
    "from sklearn.utils import resample\n",
    "from sklearn.metrics import roc_curve\n",
    "from sklearn.metrics import auc\n",
    "from imblearn.over_sampling import SMOTE\n",
    "from imblearn.under_sampling import RandomUnderSampler\n",
    "from imblearn.pipeline import Pipeline as imbpipeline\n",
    "from sklearn import svm, datasets\n",
    "from sklearn.model_selection import GridSearchCV\n",
    "from sklearn.neighbors import KNeighborsClassifier\n",
    "\n",
    "import math"
   ]
  },
  {
   "cell_type": "markdown",
   "id": "cf39dd1e",
   "metadata": {},
   "source": [
    "### Import Data"
   ]
  },
  {
   "cell_type": "code",
   "execution_count": 6,
   "id": "d6240ae5-43f9-45af-978d-9678856795ad",
   "metadata": {
    "tags": []
   },
   "outputs": [],
   "source": [
    "df = pd.read_csv(\"application_record.csv\")\n",
    "credit_df = pd.read_csv(\"credit_record.csv\")"
   ]
  },
  {
   "cell_type": "markdown",
   "metadata": {},
   "source": [
    "From our vintage analysis, we define our final \"bad\" definition as an account that exceeds 90 days past due in the first 18 months of account opening"
   ]
  },
  {
   "cell_type": "code",
   "execution_count": 7,
   "metadata": {},
   "outputs": [],
   "source": [
    "creditdfc = credit_df.copy()\n",
    "\n",
    "# Map bad values to the STATUS column\n",
    "statmap = {\n",
    "    \"0\":0,\n",
    "    \"1\":0,\n",
    "    \"2\":1,\n",
    "    \"3\":1,\n",
    "    \"4\":1,\n",
    "    \"5\":1,\n",
    "    \"C\":0,\n",
    "    \"X\":0\n",
    "}\n",
    "\n",
    "creditdfc[\"STATUS\"] = creditdfc[\"STATUS\"].map(statmap)\n",
    "\n",
    "# Create a column containing opening month of each account\n",
    "mapdict = {}\n",
    "for id, data in creditdfc.groupby(\"ID\"):\n",
    "    start_month = data[\"MONTHS_BALANCE\"].min()\n",
    "    mapdict[id] = start_month\n",
    "\n",
    "# Map \"bad\" state to the STATUS column\n",
    "creditdfc[\"acct_open_month\"] = creditdfc[\"ID\"].map(mapdict)\n",
    "\n",
    "# Calculate the months since the account was opened\n",
    "creditdfc[\"months_since_open\"] = creditdfc[\"MONTHS_BALANCE\"] - creditdfc[\"acct_open_month\"]\n",
    "\n",
    "creditdfc = creditdfc[creditdfc[\"months_since_open\"] <= 18]\n",
    "creditdfcgrouped = creditdfc.groupby(\"ID\")[\"STATUS\"].sum().reset_index()\n",
    "creditdfcgrouped[\"bad\"] = np.where(creditdfcgrouped[\"STATUS\"] > 0, 1, 0)\n",
    "creditdfcgrouped.drop(\"STATUS\", axis = 1, inplace = True)\n",
    "df = df.merge(creditdfcgrouped, on = \"ID\", how = \"left\")\n",
    "df[\"bad\"] = df[\"bad\"].fillna(0)"
   ]
  },
  {
   "cell_type": "markdown",
   "metadata": {},
   "source": [
    "Lets see the bad rate in our portfolio:"
   ]
  },
  {
   "cell_type": "code",
   "execution_count": 8,
   "metadata": {},
   "outputs": [
    {
     "data": {
      "text/plain": [
       "0.0012130692247529968"
      ]
     },
     "execution_count": 8,
     "metadata": {},
     "output_type": "execute_result"
    }
   ],
   "source": [
    "df[\"bad\"].sum()/df[\"bad\"].count()"
   ]
  },
  {
   "cell_type": "markdown",
   "id": "454af8a9",
   "metadata": {},
   "source": [
    "### Preprocessing\n",
    "\n",
    "Now we pre-process our predictors"
   ]
  },
  {
   "cell_type": "code",
   "execution_count": 9,
   "id": "25df70a0",
   "metadata": {},
   "outputs": [
    {
     "data": {
      "text/html": [
       "<div>\n",
       "<style scoped>\n",
       "    .dataframe tbody tr th:only-of-type {\n",
       "        vertical-align: middle;\n",
       "    }\n",
       "\n",
       "    .dataframe tbody tr th {\n",
       "        vertical-align: top;\n",
       "    }\n",
       "\n",
       "    .dataframe thead th {\n",
       "        text-align: right;\n",
       "    }\n",
       "</style>\n",
       "<table border=\"1\" class=\"dataframe\">\n",
       "  <thead>\n",
       "    <tr style=\"text-align: right;\">\n",
       "      <th></th>\n",
       "      <th>CODE_GENDER</th>\n",
       "      <th>FLAG_OWN_CAR</th>\n",
       "      <th>FLAG_OWN_REALTY</th>\n",
       "      <th>CNT_CHILDREN</th>\n",
       "      <th>AMT_INCOME_TOTAL</th>\n",
       "      <th>NAME_INCOME_TYPE</th>\n",
       "      <th>NAME_EDUCATION_TYPE</th>\n",
       "      <th>NAME_FAMILY_STATUS</th>\n",
       "      <th>NAME_HOUSING_TYPE</th>\n",
       "      <th>FLAG_WORK_PHONE</th>\n",
       "      <th>FLAG_PHONE</th>\n",
       "      <th>FLAG_EMAIL</th>\n",
       "      <th>OCCUPATION_TYPE</th>\n",
       "      <th>CNT_FAM_MEMBERS</th>\n",
       "      <th>bad</th>\n",
       "      <th>YEARS_BIRTH</th>\n",
       "      <th>YEARS_EMPLOYED</th>\n",
       "    </tr>\n",
       "  </thead>\n",
       "  <tbody>\n",
       "    <tr>\n",
       "      <th>0</th>\n",
       "      <td>M</td>\n",
       "      <td>Y</td>\n",
       "      <td>Y</td>\n",
       "      <td>0</td>\n",
       "      <td>427500.0</td>\n",
       "      <td>Working</td>\n",
       "      <td>Higher education</td>\n",
       "      <td>Civil marriage</td>\n",
       "      <td>Rented apartment</td>\n",
       "      <td>Y</td>\n",
       "      <td>N</td>\n",
       "      <td>N</td>\n",
       "      <td>Misc</td>\n",
       "      <td>2.0</td>\n",
       "      <td>0.0</td>\n",
       "      <td>32.89</td>\n",
       "      <td>12.44</td>\n",
       "    </tr>\n",
       "    <tr>\n",
       "      <th>1</th>\n",
       "      <td>M</td>\n",
       "      <td>Y</td>\n",
       "      <td>Y</td>\n",
       "      <td>0</td>\n",
       "      <td>427500.0</td>\n",
       "      <td>Working</td>\n",
       "      <td>Higher education</td>\n",
       "      <td>Civil marriage</td>\n",
       "      <td>Rented apartment</td>\n",
       "      <td>Y</td>\n",
       "      <td>N</td>\n",
       "      <td>N</td>\n",
       "      <td>Misc</td>\n",
       "      <td>2.0</td>\n",
       "      <td>0.0</td>\n",
       "      <td>32.89</td>\n",
       "      <td>12.44</td>\n",
       "    </tr>\n",
       "    <tr>\n",
       "      <th>2</th>\n",
       "      <td>M</td>\n",
       "      <td>Y</td>\n",
       "      <td>Y</td>\n",
       "      <td>0</td>\n",
       "      <td>112500.0</td>\n",
       "      <td>Working</td>\n",
       "      <td>Secondary / secondary special</td>\n",
       "      <td>Married</td>\n",
       "      <td>House / apartment</td>\n",
       "      <td>N</td>\n",
       "      <td>N</td>\n",
       "      <td>N</td>\n",
       "      <td>Security staff</td>\n",
       "      <td>2.0</td>\n",
       "      <td>0.0</td>\n",
       "      <td>58.83</td>\n",
       "      <td>3.11</td>\n",
       "    </tr>\n",
       "    <tr>\n",
       "      <th>3</th>\n",
       "      <td>F</td>\n",
       "      <td>N</td>\n",
       "      <td>Y</td>\n",
       "      <td>0</td>\n",
       "      <td>270000.0</td>\n",
       "      <td>Commercial associate</td>\n",
       "      <td>Secondary / secondary special</td>\n",
       "      <td>Single / not married</td>\n",
       "      <td>House / apartment</td>\n",
       "      <td>N</td>\n",
       "      <td>Y</td>\n",
       "      <td>Y</td>\n",
       "      <td>Sales staff</td>\n",
       "      <td>1.0</td>\n",
       "      <td>0.0</td>\n",
       "      <td>52.36</td>\n",
       "      <td>8.36</td>\n",
       "    </tr>\n",
       "    <tr>\n",
       "      <th>4</th>\n",
       "      <td>F</td>\n",
       "      <td>N</td>\n",
       "      <td>Y</td>\n",
       "      <td>0</td>\n",
       "      <td>270000.0</td>\n",
       "      <td>Commercial associate</td>\n",
       "      <td>Secondary / secondary special</td>\n",
       "      <td>Single / not married</td>\n",
       "      <td>House / apartment</td>\n",
       "      <td>N</td>\n",
       "      <td>Y</td>\n",
       "      <td>Y</td>\n",
       "      <td>Sales staff</td>\n",
       "      <td>1.0</td>\n",
       "      <td>0.0</td>\n",
       "      <td>52.36</td>\n",
       "      <td>8.36</td>\n",
       "    </tr>\n",
       "  </tbody>\n",
       "</table>\n",
       "</div>"
      ],
      "text/plain": [
       "  CODE_GENDER FLAG_OWN_CAR FLAG_OWN_REALTY  CNT_CHILDREN  AMT_INCOME_TOTAL  \\\n",
       "0           M            Y               Y             0          427500.0   \n",
       "1           M            Y               Y             0          427500.0   \n",
       "2           M            Y               Y             0          112500.0   \n",
       "3           F            N               Y             0          270000.0   \n",
       "4           F            N               Y             0          270000.0   \n",
       "\n",
       "       NAME_INCOME_TYPE            NAME_EDUCATION_TYPE    NAME_FAMILY_STATUS  \\\n",
       "0               Working               Higher education        Civil marriage   \n",
       "1               Working               Higher education        Civil marriage   \n",
       "2               Working  Secondary / secondary special               Married   \n",
       "3  Commercial associate  Secondary / secondary special  Single / not married   \n",
       "4  Commercial associate  Secondary / secondary special  Single / not married   \n",
       "\n",
       "   NAME_HOUSING_TYPE FLAG_WORK_PHONE FLAG_PHONE FLAG_EMAIL OCCUPATION_TYPE  \\\n",
       "0   Rented apartment               Y          N          N            Misc   \n",
       "1   Rented apartment               Y          N          N            Misc   \n",
       "2  House / apartment               N          N          N  Security staff   \n",
       "3  House / apartment               N          Y          Y     Sales staff   \n",
       "4  House / apartment               N          Y          Y     Sales staff   \n",
       "\n",
       "   CNT_FAM_MEMBERS  bad  YEARS_BIRTH  YEARS_EMPLOYED  \n",
       "0              2.0  0.0        32.89           12.44  \n",
       "1              2.0  0.0        32.89           12.44  \n",
       "2              2.0  0.0        58.83            3.11  \n",
       "3              1.0  0.0        52.36            8.36  \n",
       "4              1.0  0.0        52.36            8.36  "
      ]
     },
     "execution_count": 9,
     "metadata": {},
     "output_type": "execute_result"
    }
   ],
   "source": [
    "# Remove ID Field\n",
    "if \"ID\" in df.columns:\n",
    "    df = df.drop(\"ID\", axis = 1)\n",
    "\n",
    "# Improve human readability of certain fields\n",
    "df[\"YEARS_BIRTH\"] = round(abs(df[\"DAYS_BIRTH\"])/365, 2)\n",
    "df[\"DAYS_EMPLOYED\"] = df[\"DAYS_EMPLOYED\"].apply(lambda x: 0 if x > 0 else x)\n",
    "df[\"YEARS_EMPLOYED\"] = round(df[\"DAYS_EMPLOYED\"]/-365, 2)\n",
    "df[\"OCCUPATION_TYPE\"] = df[\"OCCUPATION_TYPE\"].fillna(\"Misc\")\n",
    "\n",
    "df.drop([\"DAYS_BIRTH\", \"DAYS_EMPLOYED\"], axis = 1, inplace = True)\n",
    "\n",
    "# Map numeric columns with two or less unique values \n",
    "for column in df.select_dtypes(\"int64\").columns:\n",
    "    valuelen = len(df[column].value_counts().index)\n",
    "    if valuelen == 1:\n",
    "        df = df.drop(column, axis = 1)\n",
    "\n",
    "for column in [\"FLAG_WORK_PHONE\", \"FLAG_PHONE\",\t\"FLAG_EMAIL\"]:\n",
    "    df[column] = df[column].map({1: \"Y\", 0: \"N\"})\n",
    "\n",
    "df.head()\n",
    "    \n"
   ]
  },
  {
   "cell_type": "markdown",
   "id": "52a12498",
   "metadata": {},
   "source": [
    "### Removing Outliers"
   ]
  },
  {
   "cell_type": "code",
   "execution_count": 10,
   "id": "ebf29470",
   "metadata": {},
   "outputs": [
    {
     "data": {
      "text/html": [
       "\n",
       "<div id=\"altair-viz-289b01ccfd774f46b52b809f804545e6\"></div>\n",
       "<script type=\"text/javascript\">\n",
       "  var VEGA_DEBUG = (typeof VEGA_DEBUG == \"undefined\") ? {} : VEGA_DEBUG;\n",
       "  (function(spec, embedOpt){\n",
       "    let outputDiv = document.currentScript.previousElementSibling;\n",
       "    if (outputDiv.id !== \"altair-viz-289b01ccfd774f46b52b809f804545e6\") {\n",
       "      outputDiv = document.getElementById(\"altair-viz-289b01ccfd774f46b52b809f804545e6\");\n",
       "    }\n",
       "    const paths = {\n",
       "      \"vega\": \"https://cdn.jsdelivr.net/npm//vega@5?noext\",\n",
       "      \"vega-lib\": \"https://cdn.jsdelivr.net/npm//vega-lib?noext\",\n",
       "      \"vega-lite\": \"https://cdn.jsdelivr.net/npm//vega-lite@4.17.0?noext\",\n",
       "      \"vega-embed\": \"https://cdn.jsdelivr.net/npm//vega-embed@6?noext\",\n",
       "    };\n",
       "\n",
       "    function maybeLoadScript(lib, version) {\n",
       "      var key = `${lib.replace(\"-\", \"\")}_version`;\n",
       "      return (VEGA_DEBUG[key] == version) ?\n",
       "        Promise.resolve(paths[lib]) :\n",
       "        new Promise(function(resolve, reject) {\n",
       "          var s = document.createElement('script');\n",
       "          document.getElementsByTagName(\"head\")[0].appendChild(s);\n",
       "          s.async = true;\n",
       "          s.onload = () => {\n",
       "            VEGA_DEBUG[key] = version;\n",
       "            return resolve(paths[lib]);\n",
       "          };\n",
       "          s.onerror = () => reject(`Error loading script: ${paths[lib]}`);\n",
       "          s.src = paths[lib];\n",
       "        });\n",
       "    }\n",
       "\n",
       "    function showError(err) {\n",
       "      outputDiv.innerHTML = `<div class=\"error\" style=\"color:red;\">${err}</div>`;\n",
       "      throw err;\n",
       "    }\n",
       "\n",
       "    function displayChart(vegaEmbed) {\n",
       "      vegaEmbed(outputDiv, spec, embedOpt)\n",
       "        .catch(err => showError(`Javascript Error: ${err.message}<br>This usually means there's a typo in your chart specification. See the javascript console for the full traceback.`));\n",
       "    }\n",
       "\n",
       "    if(typeof define === \"function\" && define.amd) {\n",
       "      requirejs.config({paths});\n",
       "      require([\"vega-embed\"], displayChart, err => showError(`Error loading script: ${err.message}`));\n",
       "    } else {\n",
       "      maybeLoadScript(\"vega\", \"5\")\n",
       "        .then(() => maybeLoadScript(\"vega-lite\", \"4.17.0\"))\n",
       "        .then(() => maybeLoadScript(\"vega-embed\", \"6\"))\n",
       "        .catch(showError)\n",
       "        .then(() => displayChart(vegaEmbed));\n",
       "    }\n",
       "  })({\"config\": {\"view\": {\"continuousWidth\": 400, \"continuousHeight\": 300}}, \"vconcat\": [{\"mark\": \"boxplot\", \"encoding\": {\"x\": {\"field\": \"CNT_CHILDREN\", \"type\": \"quantitative\"}}}, {\"mark\": \"boxplot\", \"encoding\": {\"x\": {\"field\": \"AMT_INCOME_TOTAL\", \"type\": \"quantitative\"}}}, {\"mark\": \"boxplot\", \"encoding\": {\"x\": {\"field\": \"CNT_FAM_MEMBERS\", \"type\": \"quantitative\"}}}], \"data\": {\"url\": \"http://localhost:57576/6a2b7617f30c90bda0ad67f7bc83f4b4.json\"}, \"$schema\": \"https://vega.github.io/schema/vega-lite/v4.17.0.json\"}, {\"mode\": \"vega-lite\"});\n",
       "</script>"
      ],
      "text/plain": [
       "alt.VConcatChart(...)"
      ]
     },
     "execution_count": 10,
     "metadata": {},
     "output_type": "execute_result"
    }
   ],
   "source": [
    "boxplot1 = alt.Chart(df).mark_boxplot().encode(\n",
    "    x = alt.X(\"CNT_CHILDREN\")\n",
    ")\n",
    "\n",
    "boxplot2 = alt.Chart(df).mark_boxplot().encode(\n",
    "    x = alt.X(\"AMT_INCOME_TOTAL\")\n",
    ")\n",
    "\n",
    "boxplot3 = alt.Chart(df).mark_boxplot().encode(\n",
    "    x = alt.X(\"CNT_FAM_MEMBERS\")\n",
    ")\n",
    "\n",
    "alt.vconcat(boxplot1, boxplot2, boxplot3)"
   ]
  },
  {
   "cell_type": "code",
   "execution_count": 11,
   "id": "b408abae",
   "metadata": {},
   "outputs": [
    {
     "data": {
      "text/html": [
       "<div>\n",
       "<style scoped>\n",
       "    .dataframe tbody tr th:only-of-type {\n",
       "        vertical-align: middle;\n",
       "    }\n",
       "\n",
       "    .dataframe tbody tr th {\n",
       "        vertical-align: top;\n",
       "    }\n",
       "\n",
       "    .dataframe thead th {\n",
       "        text-align: right;\n",
       "    }\n",
       "</style>\n",
       "<table border=\"1\" class=\"dataframe\">\n",
       "  <thead>\n",
       "    <tr style=\"text-align: right;\">\n",
       "      <th></th>\n",
       "      <th>CNT_CHILDREN</th>\n",
       "      <th>AMT_INCOME_TOTAL</th>\n",
       "      <th>CNT_FAM_MEMBERS</th>\n",
       "    </tr>\n",
       "  </thead>\n",
       "  <tbody>\n",
       "    <tr>\n",
       "      <th>count</th>\n",
       "      <td>438557.000000</td>\n",
       "      <td>4.385570e+05</td>\n",
       "      <td>438557.000000</td>\n",
       "    </tr>\n",
       "    <tr>\n",
       "      <th>mean</th>\n",
       "      <td>0.427390</td>\n",
       "      <td>1.875243e+05</td>\n",
       "      <td>2.194465</td>\n",
       "    </tr>\n",
       "    <tr>\n",
       "      <th>std</th>\n",
       "      <td>0.724882</td>\n",
       "      <td>1.100869e+05</td>\n",
       "      <td>0.897207</td>\n",
       "    </tr>\n",
       "    <tr>\n",
       "      <th>min</th>\n",
       "      <td>0.000000</td>\n",
       "      <td>2.610000e+04</td>\n",
       "      <td>1.000000</td>\n",
       "    </tr>\n",
       "    <tr>\n",
       "      <th>25%</th>\n",
       "      <td>0.000000</td>\n",
       "      <td>1.215000e+05</td>\n",
       "      <td>2.000000</td>\n",
       "    </tr>\n",
       "    <tr>\n",
       "      <th>50%</th>\n",
       "      <td>0.000000</td>\n",
       "      <td>1.607805e+05</td>\n",
       "      <td>2.000000</td>\n",
       "    </tr>\n",
       "    <tr>\n",
       "      <th>75%</th>\n",
       "      <td>1.000000</td>\n",
       "      <td>2.250000e+05</td>\n",
       "      <td>3.000000</td>\n",
       "    </tr>\n",
       "    <tr>\n",
       "      <th>max</th>\n",
       "      <td>19.000000</td>\n",
       "      <td>6.750000e+06</td>\n",
       "      <td>20.000000</td>\n",
       "    </tr>\n",
       "  </tbody>\n",
       "</table>\n",
       "</div>"
      ],
      "text/plain": [
       "        CNT_CHILDREN  AMT_INCOME_TOTAL  CNT_FAM_MEMBERS\n",
       "count  438557.000000      4.385570e+05    438557.000000\n",
       "mean        0.427390      1.875243e+05         2.194465\n",
       "std         0.724882      1.100869e+05         0.897207\n",
       "min         0.000000      2.610000e+04         1.000000\n",
       "25%         0.000000      1.215000e+05         2.000000\n",
       "50%         0.000000      1.607805e+05         2.000000\n",
       "75%         1.000000      2.250000e+05         3.000000\n",
       "max        19.000000      6.750000e+06        20.000000"
      ]
     },
     "execution_count": 11,
     "metadata": {},
     "output_type": "execute_result"
    }
   ],
   "source": [
    "df[[\"CNT_CHILDREN\", \"AMT_INCOME_TOTAL\", \"CNT_FAM_MEMBERS\"]].describe()"
   ]
  },
  {
   "cell_type": "code",
   "execution_count": 12,
   "id": "9137ea33",
   "metadata": {},
   "outputs": [
    {
     "data": {
      "text/html": [
       "<div>\n",
       "<style scoped>\n",
       "    .dataframe tbody tr th:only-of-type {\n",
       "        vertical-align: middle;\n",
       "    }\n",
       "\n",
       "    .dataframe tbody tr th {\n",
       "        vertical-align: top;\n",
       "    }\n",
       "\n",
       "    .dataframe thead th {\n",
       "        text-align: right;\n",
       "    }\n",
       "</style>\n",
       "<table border=\"1\" class=\"dataframe\">\n",
       "  <thead>\n",
       "    <tr style=\"text-align: right;\">\n",
       "      <th></th>\n",
       "      <th>CODE_GENDER</th>\n",
       "      <th>FLAG_OWN_CAR</th>\n",
       "      <th>FLAG_OWN_REALTY</th>\n",
       "      <th>CNT_CHILDREN</th>\n",
       "      <th>AMT_INCOME_TOTAL</th>\n",
       "      <th>NAME_INCOME_TYPE</th>\n",
       "      <th>NAME_EDUCATION_TYPE</th>\n",
       "      <th>NAME_FAMILY_STATUS</th>\n",
       "      <th>NAME_HOUSING_TYPE</th>\n",
       "      <th>FLAG_WORK_PHONE</th>\n",
       "      <th>FLAG_PHONE</th>\n",
       "      <th>FLAG_EMAIL</th>\n",
       "      <th>OCCUPATION_TYPE</th>\n",
       "      <th>CNT_FAM_MEMBERS</th>\n",
       "      <th>bad</th>\n",
       "      <th>YEARS_BIRTH</th>\n",
       "      <th>YEARS_EMPLOYED</th>\n",
       "    </tr>\n",
       "  </thead>\n",
       "  <tbody>\n",
       "    <tr>\n",
       "      <th>0</th>\n",
       "      <td>M</td>\n",
       "      <td>Y</td>\n",
       "      <td>Y</td>\n",
       "      <td>0</td>\n",
       "      <td>427500.0</td>\n",
       "      <td>Working</td>\n",
       "      <td>Higher education</td>\n",
       "      <td>Civil marriage</td>\n",
       "      <td>Rented apartment</td>\n",
       "      <td>Y</td>\n",
       "      <td>N</td>\n",
       "      <td>N</td>\n",
       "      <td>Misc</td>\n",
       "      <td>2.0</td>\n",
       "      <td>0.0</td>\n",
       "      <td>32.89</td>\n",
       "      <td>12.44</td>\n",
       "    </tr>\n",
       "    <tr>\n",
       "      <th>1</th>\n",
       "      <td>M</td>\n",
       "      <td>Y</td>\n",
       "      <td>Y</td>\n",
       "      <td>0</td>\n",
       "      <td>427500.0</td>\n",
       "      <td>Working</td>\n",
       "      <td>Higher education</td>\n",
       "      <td>Civil marriage</td>\n",
       "      <td>Rented apartment</td>\n",
       "      <td>Y</td>\n",
       "      <td>N</td>\n",
       "      <td>N</td>\n",
       "      <td>Misc</td>\n",
       "      <td>2.0</td>\n",
       "      <td>0.0</td>\n",
       "      <td>32.89</td>\n",
       "      <td>12.44</td>\n",
       "    </tr>\n",
       "    <tr>\n",
       "      <th>2</th>\n",
       "      <td>M</td>\n",
       "      <td>Y</td>\n",
       "      <td>Y</td>\n",
       "      <td>0</td>\n",
       "      <td>112500.0</td>\n",
       "      <td>Working</td>\n",
       "      <td>Secondary / secondary special</td>\n",
       "      <td>Married</td>\n",
       "      <td>House / apartment</td>\n",
       "      <td>N</td>\n",
       "      <td>N</td>\n",
       "      <td>N</td>\n",
       "      <td>Security staff</td>\n",
       "      <td>2.0</td>\n",
       "      <td>0.0</td>\n",
       "      <td>58.83</td>\n",
       "      <td>3.11</td>\n",
       "    </tr>\n",
       "    <tr>\n",
       "      <th>3</th>\n",
       "      <td>F</td>\n",
       "      <td>N</td>\n",
       "      <td>Y</td>\n",
       "      <td>0</td>\n",
       "      <td>270000.0</td>\n",
       "      <td>Commercial associate</td>\n",
       "      <td>Secondary / secondary special</td>\n",
       "      <td>Single / not married</td>\n",
       "      <td>House / apartment</td>\n",
       "      <td>N</td>\n",
       "      <td>Y</td>\n",
       "      <td>Y</td>\n",
       "      <td>Sales staff</td>\n",
       "      <td>1.0</td>\n",
       "      <td>0.0</td>\n",
       "      <td>52.36</td>\n",
       "      <td>8.36</td>\n",
       "    </tr>\n",
       "    <tr>\n",
       "      <th>4</th>\n",
       "      <td>F</td>\n",
       "      <td>N</td>\n",
       "      <td>Y</td>\n",
       "      <td>0</td>\n",
       "      <td>270000.0</td>\n",
       "      <td>Commercial associate</td>\n",
       "      <td>Secondary / secondary special</td>\n",
       "      <td>Single / not married</td>\n",
       "      <td>House / apartment</td>\n",
       "      <td>N</td>\n",
       "      <td>Y</td>\n",
       "      <td>Y</td>\n",
       "      <td>Sales staff</td>\n",
       "      <td>1.0</td>\n",
       "      <td>0.0</td>\n",
       "      <td>52.36</td>\n",
       "      <td>8.36</td>\n",
       "    </tr>\n",
       "  </tbody>\n",
       "</table>\n",
       "</div>"
      ],
      "text/plain": [
       "  CODE_GENDER FLAG_OWN_CAR FLAG_OWN_REALTY  CNT_CHILDREN  AMT_INCOME_TOTAL  \\\n",
       "0           M            Y               Y             0          427500.0   \n",
       "1           M            Y               Y             0          427500.0   \n",
       "2           M            Y               Y             0          112500.0   \n",
       "3           F            N               Y             0          270000.0   \n",
       "4           F            N               Y             0          270000.0   \n",
       "\n",
       "       NAME_INCOME_TYPE            NAME_EDUCATION_TYPE    NAME_FAMILY_STATUS  \\\n",
       "0               Working               Higher education        Civil marriage   \n",
       "1               Working               Higher education        Civil marriage   \n",
       "2               Working  Secondary / secondary special               Married   \n",
       "3  Commercial associate  Secondary / secondary special  Single / not married   \n",
       "4  Commercial associate  Secondary / secondary special  Single / not married   \n",
       "\n",
       "   NAME_HOUSING_TYPE FLAG_WORK_PHONE FLAG_PHONE FLAG_EMAIL OCCUPATION_TYPE  \\\n",
       "0   Rented apartment               Y          N          N            Misc   \n",
       "1   Rented apartment               Y          N          N            Misc   \n",
       "2  House / apartment               N          N          N  Security staff   \n",
       "3  House / apartment               N          Y          Y     Sales staff   \n",
       "4  House / apartment               N          Y          Y     Sales staff   \n",
       "\n",
       "   CNT_FAM_MEMBERS  bad  YEARS_BIRTH  YEARS_EMPLOYED  \n",
       "0              2.0  0.0        32.89           12.44  \n",
       "1              2.0  0.0        32.89           12.44  \n",
       "2              2.0  0.0        58.83            3.11  \n",
       "3              1.0  0.0        52.36            8.36  \n",
       "4              1.0  0.0        52.36            8.36  "
      ]
     },
     "execution_count": 12,
     "metadata": {},
     "output_type": "execute_result"
    }
   ],
   "source": [
    "df = df[(df[\"CNT_CHILDREN\"] <= 4) & (df[\"AMT_INCOME_TOTAL\"] < 1000000) & (df[\"CNT_FAM_MEMBERS\"] <= 4)]\n",
    "df.head()"
   ]
  },
  {
   "cell_type": "markdown",
   "metadata": {},
   "source": [
    "### Resample the data to include more rejected cases"
   ]
  },
  {
   "cell_type": "markdown",
   "metadata": {},
   "source": [
    "### Transform Columns"
   ]
  },
  {
   "cell_type": "markdown",
   "id": "6b811e74",
   "metadata": {},
   "source": [
    "Apply standardscaler to numeric columns, one-hot encoding for binary columns, ordinal encoding for categorical columns"
   ]
  },
  {
   "cell_type": "code",
   "execution_count": 13,
   "id": "8c94329e",
   "metadata": {},
   "outputs": [],
   "source": [
    "from sklearn.compose import make_column_transformer\n",
    "numerics = ['int16', 'int32', 'int64', 'float16', 'float32', 'float64']\n",
    "\n",
    "xdf = df.drop('bad', axis = 1)\n",
    "ydf = df[\"bad\"]\n",
    "\n",
    "numeric_feats = list(xdf.select_dtypes(include = numerics).columns)\n",
    "ord_feats = [\"NAME_INCOME_TYPE\", \"NAME_EDUCATION_TYPE\"]\n",
    "cat_feats = [\"NAME_FAMILY_STATUS\", \"NAME_HOUSING_TYPE\", \"OCCUPATION_TYPE\", \"NAME_INCOME_TYPE\", \"NAME_EDUCATION_TYPE\"]\n",
    "bin_feats = [x for x in xdf.columns if x not in numeric_feats + cat_feats + ord_feats]\n",
    "income_types = ['Student', 'Pensioner', 'Working', 'Commercial associate', 'State servant']\n",
    "education_types = ['Lower secondary', 'Secondary / secondary special', 'Incomplete higher', 'Higher education', 'Academic degree']\n",
    "\n",
    "ct = make_column_transformer(\n",
    "    (StandardScaler(), numeric_feats),\n",
    "    # (OrdinalEncoder(categories=[income_types, education_types], dtype=int), ord_feats),\n",
    "    (OneHotEncoder(sparse_output=False, dtype = \"int\"), cat_feats),\n",
    "    (OneHotEncoder(drop=\"if_binary\"), bin_feats)\n",
    ")\n",
    "\n",
    "X_transformed = ct.fit_transform(xdf)"
   ]
  },
  {
   "cell_type": "code",
   "execution_count": 14,
   "id": "5fecb1f5",
   "metadata": {},
   "outputs": [],
   "source": [
    "xtrain, xtest, ytrain, ytest = train_test_split(\n",
    "    X_transformed, ydf, test_size=0.2, random_state=123\n",
    ")\n"
   ]
  },
  {
   "cell_type": "code",
   "execution_count": 15,
   "id": "269992c7",
   "metadata": {},
   "outputs": [],
   "source": [
    "oversample = SMOTE(sampling_strategy=0.2)\n",
    "under = RandomUnderSampler(sampling_strategy=0.5)\n",
    "steps = [('o', oversample), ('u', under)]\n",
    "pipeline = imbpipeline(steps=steps)\n",
    "\n",
    "xtrain, ytrain = pipeline.fit_resample(xtrain, ytrain)"
   ]
  },
  {
   "cell_type": "code",
   "execution_count": 55,
   "metadata": {},
   "outputs": [
    {
     "data": {
      "text/plain": [
       "0.5"
      ]
     },
     "execution_count": 55,
     "metadata": {},
     "output_type": "execute_result"
    }
   ],
   "source": [
    "dummy = DummyClassifier()\n",
    "dummy.fit(xtrain, ytrain)\n",
    "dummy.score(xtrain, ytrain)"
   ]
  },
  {
   "cell_type": "code",
   "execution_count": 1,
   "metadata": {},
   "outputs": [
    {
     "ename": "NameError",
     "evalue": "name 'xtrain' is not defined",
     "output_type": "error",
     "traceback": [
      "\u001b[1;31m---------------------------------------------------------------------------\u001b[0m",
      "\u001b[1;31mNameError\u001b[0m                                 Traceback (most recent call last)",
      "Cell \u001b[1;32mIn[1], line 3\u001b[0m\n\u001b[0;32m      1\u001b[0m \u001b[38;5;28;01mfrom\u001b[39;00m \u001b[38;5;21;01msklearn\u001b[39;00m\u001b[38;5;21;01m.\u001b[39;00m\u001b[38;5;21;01msvm\u001b[39;00m \u001b[38;5;28;01mimport\u001b[39;00m SVC\n\u001b[0;32m      2\u001b[0m svm \u001b[38;5;241m=\u001b[39m SVC(gamma\u001b[38;5;241m=\u001b[39m\u001b[38;5;241m1\u001b[39m, kernel \u001b[38;5;241m=\u001b[39m \u001b[38;5;124m\"\u001b[39m\u001b[38;5;124mrbf\u001b[39m\u001b[38;5;124m\"\u001b[39m)  \u001b[38;5;66;03m# Ignore gamma for now\u001b[39;00m\n\u001b[1;32m----> 3\u001b[0m svm\u001b[38;5;241m.\u001b[39mfit(\u001b[43mxtrain\u001b[49m, ytrain)\n\u001b[0;32m      4\u001b[0m svm\u001b[38;5;241m.\u001b[39mscore(xtest, ytest)\n",
      "\u001b[1;31mNameError\u001b[0m: name 'xtrain' is not defined"
     ]
    }
   ],
   "source": [
    "from sklearn.svm import SVC\n",
    "svm = SVC(gamma=1, kernel = \"rbf\")  # Ignore gamma for now\n",
    "svm.fit(xtrain, ytrain)\n",
    "svm.score(xtest, ytest)\n",
    "# scores = cross_validate(svm, xtrain, ytrain, return_train_score=True)\n",
    "# print(\"Mean validation score %0.3f\" % (np.mean(scores[\"test_score\"])))\n",
    "# pd.DataFrame(scores)\n",
    "\n",
    "# results_df = pd.DataFrame(scores_dict)\n",
    "# results_df"
   ]
  },
  {
   "cell_type": "code",
   "execution_count": 84,
   "id": "f84400a6",
   "metadata": {},
   "outputs": [],
   "source": [
    "def rocres_curve(model, ytest, xtest):\n",
    "    y_scores = model.predict_proba(xtest)\n",
    "    fpr, tpr, threshold = roc_curve(ytest, y_scores[:, 1])\n",
    "    roc_auc = auc(fpr, tpr)\n",
    "\n",
    "    plt.title('Receiver Operating Characteristic')\n",
    "    plt.plot(fpr, tpr, 'b', label = 'AUC = %0.2f' % roc_auc)\n",
    "    plt.legend(loc = 'lower right')\n",
    "    plt.plot([0, 1], [0, 1],'r--')\n",
    "    plt.xlim([0, 1])\n",
    "    plt.ylim([0, 1])\n",
    "    plt.ylabel('True Positive Rate')\n",
    "    plt.xlabel('False Positive Rate')\n",
    "    plt.title('ROC Curve of kNN')\n",
    "    plt.show()\n",
    "\n",
    "    return roc_auc"
   ]
  },
  {
   "cell_type": "code",
   "execution_count": 17,
   "metadata": {},
   "outputs": [
    {
     "data": {
      "text/plain": [
       "Text(0, 0.5, 'Cross-Validated Accuracy')"
      ]
     },
     "execution_count": 17,
     "metadata": {},
     "output_type": "execute_result"
    },
    {
     "data": {
      "image/png": "[encoded data removed]",
      "text/plain": [
       "<Figure size 640x480 with 1 Axes>"
      ]
     },
     "metadata": {},
     "output_type": "display_data"
    }
   ],
   "source": [
    "\n",
    "lr = LogisticRegression(max_iter = 1000000)\n",
    "\n",
    "k_range = list(10.0 ** np.arange(-4, 6, 1))\n",
    "parameters = {'C': k_range}\n",
    "grid_lr = GridSearchCV(lr, parameters, cv=5, scoring='accuracy', return_train_score=False)\n",
    "grid_lr.fit(xtrain, ytrain)\n",
    "\n",
    "grid_mean_scoresLR = grid_lr.cv_results_['mean_test_score']\n",
    "\n",
    "plt.plot(k_range, grid_mean_scoresLR)\n",
    "plt.xlabel('Value of K for KNN')\n",
    "plt.ylabel('Cross-Validated Accuracy')"
   ]
  },
  {
   "cell_type": "code",
   "execution_count": 18,
   "id": "a98aa3a5",
   "metadata": {},
   "outputs": [
    {
     "data": {
      "text/plain": [
       "array([0.66661843, 0.66896276, 0.67426884, 0.67568702, 0.67659869,\n",
       "       0.6766807 , 0.67667105, 0.67667105, 0.67661799, 0.67664693])"
      ]
     },
     "execution_count": 18,
     "metadata": {},
     "output_type": "execute_result"
    }
   ],
   "source": [
    "grid_mean_scoresLR"
   ]
  },
  {
   "cell_type": "code",
   "execution_count": 19,
   "id": "a7f252bc",
   "metadata": {},
   "outputs": [
    {
     "data": {
      "text/plain": [
       "[0.0001, 0.001, 0.01, 0.1, 1.0, 10.0, 100.0, 1000.0, 10000.0, 100000.0]"
      ]
     },
     "execution_count": 19,
     "metadata": {},
     "output_type": "execute_result"
    }
   ],
   "source": [
    "k_range"
   ]
  },
  {
   "cell_type": "code",
   "execution_count": 86,
   "metadata": {},
   "outputs": [
    {
     "name": "stdout",
     "output_type": "stream",
     "text": [
      "Model weights: [[-0.5320596  -0.0735346   0.57152472 -0.03855578 -0.13741413 -0.59913217\n",
      "  -0.46019482 -0.11329165  0.33003058  0.84320017 -0.12485879  0.12147256\n",
      "   0.09143575  0.49565    -0.23795314 -0.34513428  0.27504783 -0.3255226\n",
      "  -0.03366173  0.43735264  0.55476175 -0.45469735  0.1623861   0.70774848\n",
      "   0.18734021  0.74923771 -0.04024286 -0.81766765  0.37245272 -0.26437993\n",
      "  -0.54694118 -0.05483479 -0.77543927  0.18923785 -0.32156586  0.04661142\n",
      "   0.24865944 -0.64609867 -0.01681943  0.36825933 -0.20882538  0.14450131\n",
      "  -0.01193093  0.13729047 -0.06042337  0.34408577 -0.1607048  -0.45386655\n",
      "   0.09198393 -0.43999705 -0.51756994]]\n",
      "Model intercept: [-0.65309636]\n"
     ]
    }
   ],
   "source": [
    "lr = LogisticRegression(C = 0.01, max_iter = 1000000)\n",
    "lr.fit(xtrain, ytrain)\n",
    "print(\"Model weights: %s\" % (lr.coef_))  # these are the learned weights\n",
    "print(\"Model intercept: %s\" % (lr.intercept_))  # this is the bias term\n"
   ]
  },
  {
   "cell_type": "code",
   "execution_count": 88,
   "id": "c5db2005",
   "metadata": {},
   "outputs": [
    {
     "data": {
      "image/png": "[encoded data removed]",
      "text/plain": [
       "<Figure size 640x480 with 1 Axes>"
      ]
     },
     "metadata": {},
     "output_type": "display_data"
    },
    {
     "data": {
      "text/plain": [
       "0.5666286456082152"
      ]
     },
     "execution_count": 88,
     "metadata": {},
     "output_type": "execute_result"
    }
   ],
   "source": [
    "rocres_curve(lr, ytest, xtest)"
   ]
  },
  {
   "cell_type": "code",
   "execution_count": 16,
   "metadata": {},
   "outputs": [
    {
     "data": {
      "text/plain": [
       "Text(0, 0.5, 'Cross-Validated Accuracy')"
      ]
     },
     "execution_count": 16,
     "metadata": {},
     "output_type": "execute_result"
    },
    {
     "data": {
      "image/png": "[encoded data removed]",
      "text/plain": [
       "<Figure size 640x480 with 1 Axes>"
      ]
     },
     "metadata": {},
     "output_type": "display_data"
    }
   ],
   "source": [
    "knn = KNeighborsClassifier()\n",
    "knn.fit(xtrain, ytrain)\n",
    "knn.score(xtrain, ytrain)\n",
    "\n",
    "k_range = list(range(2,7))\n",
    "parameters = {'n_neighbors': k_range}\n",
    "grid = GridSearchCV(knn, parameters, cv=10, scoring='accuracy', return_train_score=False)\n",
    "grid.fit(xtrain, ytrain)\n",
    "\n",
    "grid_mean_scores = grid.cv_results_['mean_test_score']\n",
    "\n",
    "plt.plot(k_range, grid_mean_scores)\n",
    "plt.xlabel('Value of K for KNN')\n",
    "plt.ylabel('Cross-Validated Accuracy')"
   ]
  },
  {
   "cell_type": "code",
   "execution_count": null,
   "id": "a08de1c5",
   "metadata": {},
   "outputs": [],
   "source": []
  },
  {
   "cell_type": "code",
   "execution_count": 82,
   "metadata": {},
   "outputs": [
    {
     "data": {
      "text/plain": [
       "0.9874549070391269"
      ]
     },
     "execution_count": 82,
     "metadata": {},
     "output_type": "execute_result"
    }
   ],
   "source": [
    "knn.score(xtest, ytest)"
   ]
  },
  {
   "cell_type": "code",
   "execution_count": 85,
   "metadata": {},
   "outputs": [
    {
     "data": {
      "image/png": "[encoded data removed]",
      "text/plain": [
       "<Figure size 640x480 with 1 Axes>"
      ]
     },
     "metadata": {},
     "output_type": "display_data"
    },
    {
     "data": {
      "text/plain": [
       "0.7500444665457922"
      ]
     },
     "execution_count": 85,
     "metadata": {},
     "output_type": "execute_result"
    }
   ],
   "source": [
    "rocres_curve(knn, ytest, xtest)"
   ]
  },
  {
   "cell_type": "code",
   "execution_count": null,
   "id": "cbe5e241",
   "metadata": {},
   "outputs": [],
   "source": []
  }
 ],
 "metadata": {
  "kernelspec": {
   "display_name": "stock_trade",
   "language": "python",
   "name": "python3"
  },
  "language_info": {
   "codemirror_mode": {
    "name": "ipython",
    "version": 3
   },
   "file_extension": ".py",
   "mimetype": "text/x-python",
   "name": "python",
   "nbconvert_exporter": "python",
   "pygments_lexer": "ipython3",
   "version": "3.10.9"
  }
 },
 "nbformat": 4,
 "nbformat_minor": 5
}
